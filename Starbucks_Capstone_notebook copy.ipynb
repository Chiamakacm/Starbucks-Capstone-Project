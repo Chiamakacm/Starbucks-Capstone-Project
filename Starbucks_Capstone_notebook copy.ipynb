{
 "cells": [
  {
   "cell_type": "markdown",
   "metadata": {},
   "source": [
    "# Starbucks Capstone Challenge\n",
    "\n",
    "### Introduction\n",
    "\n",
    "This data set contains simulated data that mimics customer behavior on the Starbucks rewards mobile app. Once every few days, Starbucks sends out an offer to users of the mobile app. An offer can be merely an advertisement for a drink or an actual offer such as a discount or BOGO (buy one get one free). Some users might not receive any offer during certain weeks. \n",
    "\n",
    "Not all users receive the same offer, and that is the challenge to solve with this data set.\n",
    "\n",
    "Your task is to combine transaction, demographic and offer data to determine which demographic groups respond best to which offer type. This data set is a simplified version of the real Starbucks app because the underlying simulator only has one product whereas Starbucks actually sells dozens of products.\n",
    "\n",
    "Every offer has a validity period before the offer expires. As an example, a BOGO offer might be valid for only 5 days. You'll see in the data set that informational offers have a validity period even though these ads are merely providing information about a product; for example, if an informational offer has 7 days of validity, you can assume the customer is feeling the influence of the offer for 7 days after receiving the advertisement.\n",
    "\n",
    "You'll be given transactional data showing user purchases made on the app including the timestamp of purchase and the amount of money spent on a purchase. This transactional data also has a record for each offer that a user receives as well as a record for when a user actually views the offer. There are also records for when a user completes an offer. \n",
    "\n",
    "Keep in mind as well that someone using the app might make a purchase through the app without having received an offer or seen an offer.\n",
    "\n",
    "### Example\n",
    "\n",
    "To give an example, a user could receive a discount offer buy 10 dollars get 2 off on Monday. The offer is valid for 10 days from receipt. If the customer accumulates at least 10 dollars in purchases during the validity period, the customer completes the offer.\n",
    "\n",
    "However, there are a few things to watch out for in this data set. Customers do not opt into the offers that they receive; in other words, a user can receive an offer, never actually view the offer, and still complete the offer. For example, a user might receive the \"buy 10 dollars get 2 dollars off offer\", but the user never opens the offer during the 10 day validity period. The customer spends 15 dollars during those ten days. There will be an offer completion record in the data set; however, the customer was not influenced by the offer because the customer never viewed the offer.\n",
    "\n",
    "### Cleaning\n",
    "\n",
    "This makes data cleaning especially important and tricky.\n",
    "\n",
    "You'll also want to take into account that some demographic groups will make purchases even if they don't receive an offer. From a business perspective, if a customer is going to make a 10 dollar purchase without an offer anyway, you wouldn't want to send a buy 10 dollars get 2 dollars off offer. You'll want to try to assess what a certain demographic group will buy when not receiving any offers.\n",
    "\n",
    "### Final Advice\n",
    "\n",
    "Because this is a capstone project, you are free to analyze the data any way you see fit. For example, you could build a machine learning model that predicts how much someone will spend based on demographics and offer type. Or you could build a model that predicts whether or not someone will respond to an offer. Or, you don't need to build a machine learning model at all. You could develop a set of heuristics that determine what offer you should send to each customer (i.e., 75 percent of women customers who were 35 years old responded to offer A vs 40 percent from the same demographic to offer B, so send offer A)."
   ]
  },
  {
   "cell_type": "markdown",
   "metadata": {},
   "source": [
    "# Data Sets\n",
    "\n",
    "The data is contained in three files:\n",
    "\n",
    "* portfolio.json - containing offer ids and meta data about each offer (duration, type, etc.)\n",
    "* profile.json - demographic data for each customer\n",
    "* transcript.json - records for transactions, offers received, offers viewed, and offers completed\n",
    "\n",
    "Here is the schema and explanation of each variable in the files:\n",
    "\n",
    "**portfolio.json**\n",
    "* id (string) - offer id\n",
    "* offer_type (string) - type of offer ie BOGO, discount, informational\n",
    "* difficulty (int) - minimum required spend to complete an offer\n",
    "* reward (int) - reward given for completing an offer\n",
    "* duration (int) - time for offer to be open, in days\n",
    "* channels (list of strings)\n",
    "\n",
    "**profile.json**\n",
    "* age (int) - age of the customer \n",
    "* became_member_on (int) - date when customer created an app account\n",
    "* gender (str) - gender of the customer (note some entries contain 'O' for other rather than M or F)\n",
    "* id (str) - customer id\n",
    "* income (float) - customer's income\n",
    "\n",
    "**transcript.json**\n",
    "* event (str) - record description (ie transaction, offer received, offer viewed, etc.)\n",
    "* person (str) - customer id\n",
    "* time (int) - time in hours since start of test. The data begins at time t=0\n",
    "* value - (dict of strings) - either an offer id or transaction amount depending on the record\n",
    "\n"
   ]
  },
  {
   "cell_type": "code",
   "execution_count": 560,
   "metadata": {},
   "outputs": [],
   "source": [
    "import pandas as pd\n",
    "import numpy as np\n",
    "import math\n",
    "import json\n",
    "import matplotlib.pyplot as plt\n",
    "%matplotlib inline\n",
    "\n",
    "# read in the json files\n",
    "portfolio = pd.read_json('C:/Users/cmezu/OneDrive/Data Science/Project 4/portfolio.json', orient='records', lines=True)\n",
    "profile = pd.read_json('C:/Users/cmezu/OneDrive/Data Science/Project 4/profile.json', orient='records', lines=True)\n",
    "transcript = pd.read_json('C:/Users/cmezu/OneDrive/Data Science/Project 4/transcript.json', orient='records', lines=True)"
   ]
  },
  {
   "cell_type": "markdown",
   "metadata": {},
   "source": [
    "Analysising the data \n",
    "\n",
    "I will be analysing the files to understand the data. This will help me understand what needs to be cleaned and how I can use it to analyse the data."
   ]
  },
  {
   "cell_type": "markdown",
   "metadata": {},
   "source": [
    "Analysising Portfolio Data"
   ]
  },
  {
   "cell_type": "code",
   "execution_count": 561,
   "metadata": {},
   "outputs": [
    {
     "data": {
      "text/html": [
       "<div>\n",
       "<style scoped>\n",
       "    .dataframe tbody tr th:only-of-type {\n",
       "        vertical-align: middle;\n",
       "    }\n",
       "\n",
       "    .dataframe tbody tr th {\n",
       "        vertical-align: top;\n",
       "    }\n",
       "\n",
       "    .dataframe thead th {\n",
       "        text-align: right;\n",
       "    }\n",
       "</style>\n",
       "<table border=\"1\" class=\"dataframe\">\n",
       "  <thead>\n",
       "    <tr style=\"text-align: right;\">\n",
       "      <th></th>\n",
       "      <th>reward</th>\n",
       "      <th>channels</th>\n",
       "      <th>difficulty</th>\n",
       "      <th>duration</th>\n",
       "      <th>offer_type</th>\n",
       "      <th>id</th>\n",
       "    </tr>\n",
       "  </thead>\n",
       "  <tbody>\n",
       "    <tr>\n",
       "      <th>0</th>\n",
       "      <td>10</td>\n",
       "      <td>[email, mobile, social]</td>\n",
       "      <td>10</td>\n",
       "      <td>7</td>\n",
       "      <td>bogo</td>\n",
       "      <td>ae264e3637204a6fb9bb56bc8210ddfd</td>\n",
       "    </tr>\n",
       "    <tr>\n",
       "      <th>1</th>\n",
       "      <td>10</td>\n",
       "      <td>[web, email, mobile, social]</td>\n",
       "      <td>10</td>\n",
       "      <td>5</td>\n",
       "      <td>bogo</td>\n",
       "      <td>4d5c57ea9a6940dd891ad53e9dbe8da0</td>\n",
       "    </tr>\n",
       "    <tr>\n",
       "      <th>2</th>\n",
       "      <td>0</td>\n",
       "      <td>[web, email, mobile]</td>\n",
       "      <td>0</td>\n",
       "      <td>4</td>\n",
       "      <td>informational</td>\n",
       "      <td>3f207df678b143eea3cee63160fa8bed</td>\n",
       "    </tr>\n",
       "    <tr>\n",
       "      <th>3</th>\n",
       "      <td>5</td>\n",
       "      <td>[web, email, mobile]</td>\n",
       "      <td>5</td>\n",
       "      <td>7</td>\n",
       "      <td>bogo</td>\n",
       "      <td>9b98b8c7a33c4b65b9aebfe6a799e6d9</td>\n",
       "    </tr>\n",
       "    <tr>\n",
       "      <th>4</th>\n",
       "      <td>5</td>\n",
       "      <td>[web, email]</td>\n",
       "      <td>20</td>\n",
       "      <td>10</td>\n",
       "      <td>discount</td>\n",
       "      <td>0b1e1539f2cc45b7b9fa7c272da2e1d7</td>\n",
       "    </tr>\n",
       "  </tbody>\n",
       "</table>\n",
       "</div>"
      ],
      "text/plain": [
       "   reward                      channels  difficulty  duration     offer_type  \\\n",
       "0      10       [email, mobile, social]          10         7           bogo   \n",
       "1      10  [web, email, mobile, social]          10         5           bogo   \n",
       "2       0          [web, email, mobile]           0         4  informational   \n",
       "3       5          [web, email, mobile]           5         7           bogo   \n",
       "4       5                  [web, email]          20        10       discount   \n",
       "\n",
       "                                 id  \n",
       "0  ae264e3637204a6fb9bb56bc8210ddfd  \n",
       "1  4d5c57ea9a6940dd891ad53e9dbe8da0  \n",
       "2  3f207df678b143eea3cee63160fa8bed  \n",
       "3  9b98b8c7a33c4b65b9aebfe6a799e6d9  \n",
       "4  0b1e1539f2cc45b7b9fa7c272da2e1d7  "
      ]
     },
     "execution_count": 561,
     "metadata": {},
     "output_type": "execute_result"
    }
   ],
   "source": [
    "#print portfolio table \n",
    "portfolio.head()"
   ]
  },
  {
   "cell_type": "code",
   "execution_count": 562,
   "metadata": {},
   "outputs": [
    {
     "name": "stdout",
     "output_type": "stream",
     "text": [
      "<class 'pandas.core.frame.DataFrame'>\n",
      "RangeIndex: 10 entries, 0 to 9\n",
      "Data columns (total 6 columns):\n",
      " #   Column      Non-Null Count  Dtype \n",
      "---  ------      --------------  ----- \n",
      " 0   reward      10 non-null     int64 \n",
      " 1   channels    10 non-null     object\n",
      " 2   difficulty  10 non-null     int64 \n",
      " 3   duration    10 non-null     int64 \n",
      " 4   offer_type  10 non-null     object\n",
      " 5   id          10 non-null     object\n",
      "dtypes: int64(3), object(3)\n",
      "memory usage: 612.0+ bytes\n"
     ]
    }
   ],
   "source": [
    "#print portfolio info\n",
    "portfolio.info()"
   ]
  },
  {
   "cell_type": "code",
   "execution_count": 563,
   "metadata": {},
   "outputs": [
    {
     "data": {
      "text/plain": [
       "reward        0\n",
       "channels      0\n",
       "difficulty    0\n",
       "duration      0\n",
       "offer_type    0\n",
       "id            0\n",
       "dtype: int64"
      ]
     },
     "execution_count": 563,
     "metadata": {},
     "output_type": "execute_result"
    }
   ],
   "source": [
    "#print null values\n",
    "portfolio.isnull().sum()"
   ]
  },
  {
   "cell_type": "code",
   "execution_count": 564,
   "metadata": {},
   "outputs": [
    {
     "data": {
      "text/html": [
       "<div>\n",
       "<style scoped>\n",
       "    .dataframe tbody tr th:only-of-type {\n",
       "        vertical-align: middle;\n",
       "    }\n",
       "\n",
       "    .dataframe tbody tr th {\n",
       "        vertical-align: top;\n",
       "    }\n",
       "\n",
       "    .dataframe thead th {\n",
       "        text-align: right;\n",
       "    }\n",
       "</style>\n",
       "<table border=\"1\" class=\"dataframe\">\n",
       "  <thead>\n",
       "    <tr style=\"text-align: right;\">\n",
       "      <th></th>\n",
       "      <th>reward</th>\n",
       "      <th>difficulty</th>\n",
       "      <th>duration</th>\n",
       "    </tr>\n",
       "  </thead>\n",
       "  <tbody>\n",
       "    <tr>\n",
       "      <th>count</th>\n",
       "      <td>10.000000</td>\n",
       "      <td>10.000000</td>\n",
       "      <td>10.000000</td>\n",
       "    </tr>\n",
       "    <tr>\n",
       "      <th>mean</th>\n",
       "      <td>4.200000</td>\n",
       "      <td>7.700000</td>\n",
       "      <td>6.500000</td>\n",
       "    </tr>\n",
       "    <tr>\n",
       "      <th>std</th>\n",
       "      <td>3.583915</td>\n",
       "      <td>5.831905</td>\n",
       "      <td>2.321398</td>\n",
       "    </tr>\n",
       "    <tr>\n",
       "      <th>min</th>\n",
       "      <td>0.000000</td>\n",
       "      <td>0.000000</td>\n",
       "      <td>3.000000</td>\n",
       "    </tr>\n",
       "    <tr>\n",
       "      <th>25%</th>\n",
       "      <td>2.000000</td>\n",
       "      <td>5.000000</td>\n",
       "      <td>5.000000</td>\n",
       "    </tr>\n",
       "    <tr>\n",
       "      <th>50%</th>\n",
       "      <td>4.000000</td>\n",
       "      <td>8.500000</td>\n",
       "      <td>7.000000</td>\n",
       "    </tr>\n",
       "    <tr>\n",
       "      <th>75%</th>\n",
       "      <td>5.000000</td>\n",
       "      <td>10.000000</td>\n",
       "      <td>7.000000</td>\n",
       "    </tr>\n",
       "    <tr>\n",
       "      <th>max</th>\n",
       "      <td>10.000000</td>\n",
       "      <td>20.000000</td>\n",
       "      <td>10.000000</td>\n",
       "    </tr>\n",
       "  </tbody>\n",
       "</table>\n",
       "</div>"
      ],
      "text/plain": [
       "          reward  difficulty   duration\n",
       "count  10.000000   10.000000  10.000000\n",
       "mean    4.200000    7.700000   6.500000\n",
       "std     3.583915    5.831905   2.321398\n",
       "min     0.000000    0.000000   3.000000\n",
       "25%     2.000000    5.000000   5.000000\n",
       "50%     4.000000    8.500000   7.000000\n",
       "75%     5.000000   10.000000   7.000000\n",
       "max    10.000000   20.000000  10.000000"
      ]
     },
     "execution_count": 564,
     "metadata": {},
     "output_type": "execute_result"
    }
   ],
   "source": [
    "portfolio.describe()"
   ]
  },
  {
   "cell_type": "code",
   "execution_count": 565,
   "metadata": {},
   "outputs": [
    {
     "name": "stdout",
     "output_type": "stream",
     "text": [
      "offer_type\n",
      "bogo             4\n",
      "discount         4\n",
      "informational    2\n",
      "Name: count, dtype: int64\n"
     ]
    }
   ],
   "source": [
    "print(portfolio['offer_type'].value_counts())  # Count offer types"
   ]
  },
  {
   "cell_type": "code",
   "execution_count": 566,
   "metadata": {},
   "outputs": [
    {
     "name": "stdout",
     "output_type": "stream",
     "text": [
      "        duration     reward\n",
      "count  10.000000  10.000000\n",
      "mean    6.500000   4.200000\n",
      "std     2.321398   3.583915\n",
      "min     3.000000   0.000000\n",
      "25%     5.000000   2.000000\n",
      "50%     7.000000   4.000000\n",
      "75%     7.000000   5.000000\n",
      "max    10.000000  10.000000\n"
     ]
    }
   ],
   "source": [
    "print(portfolio[['duration', 'reward']].describe())  # Summary of duration and reward"
   ]
  },
  {
   "cell_type": "code",
   "execution_count": 567,
   "metadata": {},
   "outputs": [
    {
     "data": {
      "text/plain": [
       "<Axes: title={'center': 'Offer Types Distribution'}, xlabel='offer_type'>"
      ]
     },
     "execution_count": 567,
     "metadata": {},
     "output_type": "execute_result"
    },
    {
     "data": {
      "image/png": "[encoded data removed]",
      "text/plain": [
       "<Figure size 640x480 with 1 Axes>"
      ]
     },
     "metadata": {},
     "output_type": "display_data"
    }
   ],
   "source": [
    "# Visualize offer types\n",
    "portfolio['offer_type'].value_counts().plot(kind='bar', title='Offer Types Distribution')"
   ]
  },
  {
   "cell_type": "code",
   "execution_count": 568,
   "metadata": {},
   "outputs": [
    {
     "data": {
      "image/png": "[encoded data removed]",
      "text/plain": [
       "<Figure size 640x480 with 1 Axes>"
      ]
     },
     "metadata": {},
     "output_type": "display_data"
    },
    {
     "name": "stdout",
     "output_type": "stream",
     "text": [
      "offer_type\n",
      "bogo             6.0\n",
      "discount         8.5\n",
      "informational    3.5\n",
      "Name: duration, dtype: float64\n"
     ]
    },
    {
     "data": {
      "image/png": "[encoded data removed]",
      "text/plain": [
       "<Figure size 640x480 with 1 Axes>"
      ]
     },
     "metadata": {},
     "output_type": "display_data"
    }
   ],
   "source": [
    "# Distribution of duration\n",
    "portfolio['duration'].hist(bins=10)\n",
    "plt.title('Distribution of Offer Duration')\n",
    "plt.xlabel('Duration (days)')\n",
    "plt.ylabel('Frequency')\n",
    "plt.show()\n",
    "\n",
    "# Average duration by offer type\n",
    "duration_by_type = portfolio.groupby('offer_type')['duration'].mean()\n",
    "print(duration_by_type)\n",
    "\n",
    "# Visualize duration by offer type\n",
    "duration_by_type.plot(kind='bar', title='Average Duration by Offer Type')\n",
    "plt.xlabel('Offer Type')\n",
    "plt.ylabel('Average Duration (days)')\n",
    "plt.show()"
   ]
  },
  {
   "cell_type": "code",
   "execution_count": 569,
   "metadata": {},
   "outputs": [
    {
     "data": {
      "image/png": "[encoded data removed]",
      "text/plain": [
       "<Figure size 640x480 with 1 Axes>"
      ]
     },
     "metadata": {},
     "output_type": "display_data"
    },
    {
     "data": {
      "image/png": "[encoded data removed]",
      "text/plain": [
       "<Figure size 640x480 with 1 Axes>"
      ]
     },
     "metadata": {},
     "output_type": "display_data"
    },
    {
     "name": "stdout",
     "output_type": "stream",
     "text": [
      "            difficulty    reward\n",
      "difficulty    1.000000  0.465686\n",
      "reward        0.465686  1.000000\n"
     ]
    }
   ],
   "source": [
    "# Distribution of difficulty and reward\n",
    "portfolio['difficulty'].hist(bins=10, alpha=0.7, label='Difficulty')\n",
    "portfolio['reward'].hist(bins=10, alpha=0.7, label='Reward')\n",
    "plt.title('Distribution of Difficulty and Reward')\n",
    "plt.xlabel('Value')\n",
    "plt.ylabel('Frequency')\n",
    "plt.legend()\n",
    "plt.show()\n",
    "\n",
    "# Scatter plot of difficulty vs. reward\n",
    "plt.scatter(portfolio['difficulty'], portfolio['reward'])\n",
    "plt.title('Difficulty vs. Reward')\n",
    "plt.xlabel('Difficulty')\n",
    "plt.ylabel('Reward')\n",
    "plt.show()\n",
    "\n",
    "# Correlation between difficulty and reward\n",
    "correlation = portfolio[['difficulty', 'reward']].corr()\n",
    "print(correlation)"
   ]
  },
  {
   "cell_type": "code",
   "execution_count": 570,
   "metadata": {},
   "outputs": [
    {
     "name": "stdout",
     "output_type": "stream",
     "text": [
      "Counter({'email': 10, 'mobile': 9, 'web': 8, 'social': 6})\n"
     ]
    },
    {
     "data": {
      "image/png": "[encoded data removed]",
      "text/plain": [
       "<Figure size 640x480 with 1 Axes>"
      ]
     },
     "metadata": {},
     "output_type": "display_data"
    },
    {
     "name": "stdout",
     "output_type": "stream",
     "text": [
      "offer_type           \n",
      "bogo           email     4\n",
      "               mobile    4\n",
      "               social    3\n",
      "               web       3\n",
      "discount       email     4\n",
      "               mobile    3\n",
      "               social    2\n",
      "               web       4\n",
      "informational  email     2\n",
      "               mobile    2\n",
      "               social    1\n",
      "               web       1\n",
      "Name: channels_str, dtype: int64\n"
     ]
    }
   ],
   "source": [
    "# Flatten the list of channels\n",
    "from collections import Counter\n",
    "channels = Counter([channel for sublist in portfolio['channels'] for channel in sublist])\n",
    "print(channels)\n",
    "\n",
    "# Visualize channel usage\n",
    "pd.Series(channels).plot(kind='bar', title='Channel Usage')\n",
    "plt.xlabel('Channel')\n",
    "plt.ylabel('Frequency')\n",
    "plt.show()\n",
    "\n",
    "# Analyze channels by offer type\n",
    "portfolio['channels_str'] = portfolio['channels'].apply(lambda x: ', '.join(x))  # Convert list to string for grouping\n",
    "channels_by_type = portfolio.groupby('offer_type')['channels_str'].apply(lambda x: Counter([channel for sublist in x.str.split(', ') for channel in sublist]))\n",
    "print(channels_by_type)"
   ]
  },
  {
   "cell_type": "code",
   "execution_count": 571,
   "metadata": {},
   "outputs": [
    {
     "data": {
      "image/png": "[encoded data removed]",
      "text/plain": [
       "<Figure size 640x480 with 1 Axes>"
      ]
     },
     "metadata": {},
     "output_type": "display_data"
    },
    {
     "data": {
      "image/png": "[encoded data removed]",
      "text/plain": [
       "<Figure size 640x480 with 1 Axes>"
      ]
     },
     "metadata": {},
     "output_type": "display_data"
    }
   ],
   "source": [
    "# Analyze reward vs. duration\n",
    "plt.scatter(portfolio['reward'], portfolio['duration'])\n",
    "plt.title('Reward vs. Duration')\n",
    "plt.xlabel('Reward')\n",
    "plt.ylabel('Duration (days)')\n",
    "plt.show()\n",
    "\n",
    "# Analyze difficulty vs. duration\n",
    "plt.scatter(portfolio['difficulty'], portfolio['duration'])\n",
    "plt.title('Difficulty vs. Duration')\n",
    "plt.xlabel('Difficulty')\n",
    "plt.ylabel('Duration (days)')\n",
    "plt.show()"
   ]
  },
  {
   "cell_type": "code",
   "execution_count": 572,
   "metadata": {},
   "outputs": [
    {
     "data": {
      "text/plain": [
       "(10, 7)"
      ]
     },
     "execution_count": 572,
     "metadata": {},
     "output_type": "execute_result"
    }
   ],
   "source": [
    "portfolio.shape"
   ]
  },
  {
   "cell_type": "markdown",
   "metadata": {},
   "source": [
    "Summary of portfolio insights\n",
    "\n",
    " Summary of Insights\n",
    "After analyzing the data, summarize your findings:\n",
    "\n",
    "Which offer type is most common?\n",
    "Are higher rewards associated with higher difficulty or longer durations?\n",
    "Which channels are most frequently used, and do they vary by offer type?\n",
    "\n",
    "Example Insights:\n",
    "Offer Types: BOGO and discount offers are more common than informational offers.\n",
    "Difficulty vs. Reward: Offers with higher rewards tend to have higher difficulty.\n",
    "Channels: Email and web are the most common channels, while mobile is less frequently used.\n",
    "Duration: Informational offers tend to have shorter durations compared to BOGO and discount offers."
   ]
  },
  {
   "cell_type": "markdown",
   "metadata": {},
   "source": [
    "From my analysis of the porfolio dataset, i can see that:\n",
    "the data has no null values which means the cleaning process is easier. \n",
    "we have a mix of data types and the dataset isn't large\n"
   ]
  },
  {
   "cell_type": "markdown",
   "metadata": {},
   "source": [
    "Analysing profile data"
   ]
  },
  {
   "cell_type": "code",
   "execution_count": 573,
   "metadata": {},
   "outputs": [
    {
     "data": {
      "text/html": [
       "<div>\n",
       "<style scoped>\n",
       "    .dataframe tbody tr th:only-of-type {\n",
       "        vertical-align: middle;\n",
       "    }\n",
       "\n",
       "    .dataframe tbody tr th {\n",
       "        vertical-align: top;\n",
       "    }\n",
       "\n",
       "    .dataframe thead th {\n",
       "        text-align: right;\n",
       "    }\n",
       "</style>\n",
       "<table border=\"1\" class=\"dataframe\">\n",
       "  <thead>\n",
       "    <tr style=\"text-align: right;\">\n",
       "      <th></th>\n",
       "      <th>gender</th>\n",
       "      <th>age</th>\n",
       "      <th>id</th>\n",
       "      <th>became_member_on</th>\n",
       "      <th>income</th>\n",
       "    </tr>\n",
       "  </thead>\n",
       "  <tbody>\n",
       "    <tr>\n",
       "      <th>0</th>\n",
       "      <td>None</td>\n",
       "      <td>118</td>\n",
       "      <td>68be06ca386d4c31939f3a4f0e3dd783</td>\n",
       "      <td>20170212</td>\n",
       "      <td>NaN</td>\n",
       "    </tr>\n",
       "    <tr>\n",
       "      <th>1</th>\n",
       "      <td>F</td>\n",
       "      <td>55</td>\n",
       "      <td>0610b486422d4921ae7d2bf64640c50b</td>\n",
       "      <td>20170715</td>\n",
       "      <td>112000.0</td>\n",
       "    </tr>\n",
       "    <tr>\n",
       "      <th>2</th>\n",
       "      <td>None</td>\n",
       "      <td>118</td>\n",
       "      <td>38fe809add3b4fcf9315a9694bb96ff5</td>\n",
       "      <td>20180712</td>\n",
       "      <td>NaN</td>\n",
       "    </tr>\n",
       "    <tr>\n",
       "      <th>3</th>\n",
       "      <td>F</td>\n",
       "      <td>75</td>\n",
       "      <td>78afa995795e4d85b5d9ceeca43f5fef</td>\n",
       "      <td>20170509</td>\n",
       "      <td>100000.0</td>\n",
       "    </tr>\n",
       "    <tr>\n",
       "      <th>4</th>\n",
       "      <td>None</td>\n",
       "      <td>118</td>\n",
       "      <td>a03223e636434f42ac4c3df47e8bac43</td>\n",
       "      <td>20170804</td>\n",
       "      <td>NaN</td>\n",
       "    </tr>\n",
       "  </tbody>\n",
       "</table>\n",
       "</div>"
      ],
      "text/plain": [
       "  gender  age                                id  became_member_on    income\n",
       "0   None  118  68be06ca386d4c31939f3a4f0e3dd783          20170212       NaN\n",
       "1      F   55  0610b486422d4921ae7d2bf64640c50b          20170715  112000.0\n",
       "2   None  118  38fe809add3b4fcf9315a9694bb96ff5          20180712       NaN\n",
       "3      F   75  78afa995795e4d85b5d9ceeca43f5fef          20170509  100000.0\n",
       "4   None  118  a03223e636434f42ac4c3df47e8bac43          20170804       NaN"
      ]
     },
     "execution_count": 573,
     "metadata": {},
     "output_type": "execute_result"
    }
   ],
   "source": [
    "#print profile table \n",
    "profile.head()"
   ]
  },
  {
   "cell_type": "code",
   "execution_count": 574,
   "metadata": {},
   "outputs": [
    {
     "name": "stdout",
     "output_type": "stream",
     "text": [
      "<class 'pandas.core.frame.DataFrame'>\n",
      "RangeIndex: 17000 entries, 0 to 16999\n",
      "Data columns (total 5 columns):\n",
      " #   Column            Non-Null Count  Dtype  \n",
      "---  ------            --------------  -----  \n",
      " 0   gender            14825 non-null  object \n",
      " 1   age               17000 non-null  int64  \n",
      " 2   id                17000 non-null  object \n",
      " 3   became_member_on  17000 non-null  int64  \n",
      " 4   income            14825 non-null  float64\n",
      "dtypes: float64(1), int64(2), object(2)\n",
      "memory usage: 664.2+ KB\n"
     ]
    }
   ],
   "source": [
    "#print profile info\n",
    "profile.info()"
   ]
  },
  {
   "cell_type": "code",
   "execution_count": 575,
   "metadata": {},
   "outputs": [
    {
     "data": {
      "text/plain": [
       "gender              2175\n",
       "age                    0\n",
       "id                     0\n",
       "became_member_on       0\n",
       "income              2175\n",
       "dtype: int64"
      ]
     },
     "execution_count": 575,
     "metadata": {},
     "output_type": "execute_result"
    }
   ],
   "source": [
    "#print null values\n",
    "profile.isnull().sum()"
   ]
  },
  {
   "cell_type": "code",
   "execution_count": 576,
   "metadata": {},
   "outputs": [
    {
     "data": {
      "text/html": [
       "<div>\n",
       "<style scoped>\n",
       "    .dataframe tbody tr th:only-of-type {\n",
       "        vertical-align: middle;\n",
       "    }\n",
       "\n",
       "    .dataframe tbody tr th {\n",
       "        vertical-align: top;\n",
       "    }\n",
       "\n",
       "    .dataframe thead th {\n",
       "        text-align: right;\n",
       "    }\n",
       "</style>\n",
       "<table border=\"1\" class=\"dataframe\">\n",
       "  <thead>\n",
       "    <tr style=\"text-align: right;\">\n",
       "      <th></th>\n",
       "      <th>age</th>\n",
       "      <th>became_member_on</th>\n",
       "      <th>income</th>\n",
       "    </tr>\n",
       "  </thead>\n",
       "  <tbody>\n",
       "    <tr>\n",
       "      <th>count</th>\n",
       "      <td>17000.000000</td>\n",
       "      <td>1.700000e+04</td>\n",
       "      <td>14825.000000</td>\n",
       "    </tr>\n",
       "    <tr>\n",
       "      <th>mean</th>\n",
       "      <td>62.531412</td>\n",
       "      <td>2.016703e+07</td>\n",
       "      <td>65404.991568</td>\n",
       "    </tr>\n",
       "    <tr>\n",
       "      <th>std</th>\n",
       "      <td>26.738580</td>\n",
       "      <td>1.167750e+04</td>\n",
       "      <td>21598.299410</td>\n",
       "    </tr>\n",
       "    <tr>\n",
       "      <th>min</th>\n",
       "      <td>18.000000</td>\n",
       "      <td>2.013073e+07</td>\n",
       "      <td>30000.000000</td>\n",
       "    </tr>\n",
       "    <tr>\n",
       "      <th>25%</th>\n",
       "      <td>45.000000</td>\n",
       "      <td>2.016053e+07</td>\n",
       "      <td>49000.000000</td>\n",
       "    </tr>\n",
       "    <tr>\n",
       "      <th>50%</th>\n",
       "      <td>58.000000</td>\n",
       "      <td>2.017080e+07</td>\n",
       "      <td>64000.000000</td>\n",
       "    </tr>\n",
       "    <tr>\n",
       "      <th>75%</th>\n",
       "      <td>73.000000</td>\n",
       "      <td>2.017123e+07</td>\n",
       "      <td>80000.000000</td>\n",
       "    </tr>\n",
       "    <tr>\n",
       "      <th>max</th>\n",
       "      <td>118.000000</td>\n",
       "      <td>2.018073e+07</td>\n",
       "      <td>120000.000000</td>\n",
       "    </tr>\n",
       "  </tbody>\n",
       "</table>\n",
       "</div>"
      ],
      "text/plain": [
       "                age  became_member_on         income\n",
       "count  17000.000000      1.700000e+04   14825.000000\n",
       "mean      62.531412      2.016703e+07   65404.991568\n",
       "std       26.738580      1.167750e+04   21598.299410\n",
       "min       18.000000      2.013073e+07   30000.000000\n",
       "25%       45.000000      2.016053e+07   49000.000000\n",
       "50%       58.000000      2.017080e+07   64000.000000\n",
       "75%       73.000000      2.017123e+07   80000.000000\n",
       "max      118.000000      2.018073e+07  120000.000000"
      ]
     },
     "execution_count": 576,
     "metadata": {},
     "output_type": "execute_result"
    }
   ],
   "source": [
    "profile.describe()"
   ]
  },
  {
   "cell_type": "markdown",
   "metadata": {},
   "source": [
    "The max age is 118 which is quite suprising. On average i wouldn't expect to see ages above 100, although this isn't an impossible situation"
   ]
  },
  {
   "cell_type": "markdown",
   "metadata": {},
   "source": [
    "Understanding age"
   ]
  },
  {
   "cell_type": "code",
   "execution_count": 577,
   "metadata": {},
   "outputs": [
    {
     "name": "stdout",
     "output_type": "stream",
     "text": [
      "      gender  age                                id  became_member_on  income\n",
      "0       None  118  68be06ca386d4c31939f3a4f0e3dd783          20170212     NaN\n",
      "2       None  118  38fe809add3b4fcf9315a9694bb96ff5          20180712     NaN\n",
      "4       None  118  a03223e636434f42ac4c3df47e8bac43          20170804     NaN\n",
      "6       None  118  8ec6ce2a7e7949b1bf142def7d0e0586          20170925     NaN\n",
      "7       None  118  68617ca6246f4fbc85e91a2a49552598          20171002     NaN\n",
      "...      ...  ...                               ...               ...     ...\n",
      "16980   None  118  5c686d09ca4d475a8f750f2ba07e0440          20160901     NaN\n",
      "16982   None  118  d9ca82f550ac4ee58b6299cf1e5c824a          20160415     NaN\n",
      "16989   None  118  ca45ee1883624304bac1e4c8a114f045          20180305     NaN\n",
      "16991   None  118  a9a20fa8b5504360beb4e7c8712f8306          20160116     NaN\n",
      "16994   None  118  c02b10e8752c4d8e9b73f918558531f7          20151211     NaN\n",
      "\n",
      "[2180 rows x 5 columns]\n"
     ]
    }
   ],
   "source": [
    "\n",
    "# Check for ages above 100\n",
    "print(profile[profile['age'] > 100])  "
   ]
  },
  {
   "cell_type": "code",
   "execution_count": 578,
   "metadata": {},
   "outputs": [
    {
     "name": "stdout",
     "output_type": "stream",
     "text": [
      "   Age  Count\n",
      "0  118   2175\n",
      "1  101      5\n"
     ]
    }
   ],
   "source": [
    "# Filter ages above 100\n",
    "ages_above_100 = profile[profile['age'] > 100]\n",
    "\n",
    "# Get the value counts of ages above 100\n",
    "age_counts = ages_above_100['age'].value_counts().reset_index()\n",
    "\n",
    "# Rename columns for clarity\n",
    "age_counts.columns = ['Age', 'Count']\n",
    "\n",
    "# Display the table\n",
    "print(age_counts)"
   ]
  },
  {
   "cell_type": "code",
   "execution_count": 579,
   "metadata": {},
   "outputs": [
    {
     "name": "stdout",
     "output_type": "stream",
     "text": [
      "gender              2175\n",
      "age                    0\n",
      "id                     0\n",
      "became_member_on       0\n",
      "income              2175\n",
      "dtype: int64\n",
      "gender\n",
      "M    8484\n",
      "F    6129\n",
      "O     212\n",
      "Name: count, dtype: int64\n",
      "count    17000.000000\n",
      "mean        62.531412\n",
      "std         26.738580\n",
      "min         18.000000\n",
      "25%         45.000000\n",
      "50%         58.000000\n",
      "75%         73.000000\n",
      "max        118.000000\n",
      "Name: age, dtype: float64\n"
     ]
    },
    {
     "data": {
      "image/png": "[encoded data removed]",
      "text/plain": [
       "<Figure size 640x480 with 1 Axes>"
      ]
     },
     "metadata": {},
     "output_type": "display_data"
    },
    {
     "data": {
      "image/png": "[encoded data removed]",
      "text/plain": [
       "<Figure size 640x480 with 1 Axes>"
      ]
     },
     "metadata": {},
     "output_type": "display_data"
    }
   ],
   "source": [
    "# Analyze profile\n",
    "print(profile.isnull().sum())  # Check for missing values\n",
    "print(profile['gender'].value_counts())  # Gender distribution\n",
    "print(profile['age'].describe())  # Age statistics\n",
    "\n",
    "# Visualize demographics\n",
    "profile['age'].hist(bins=20)\n",
    "plt.title('Age Distribution')\n",
    "plt.xlabel('Age')\n",
    "plt.ylabel('Frequency')\n",
    "plt.show()\n",
    "\n",
    "profile['income'].hist(bins=20)\n",
    "plt.title('Income Distribution')\n",
    "plt.xlabel('Income')\n",
    "plt.ylabel('Frequency')\n",
    "plt.show()"
   ]
  },
  {
   "cell_type": "markdown",
   "metadata": {},
   "source": [
    "There is something looking unusual with age 118, particulatrily when looking at the value count. Age over 100 is less likely, added with the fact that is is incredibly high for 118 and with the fact that the missing vlaues for gender and income match exactly with age count makes it seem there is a problem here"
   ]
  },
  {
   "cell_type": "code",
   "execution_count": 580,
   "metadata": {},
   "outputs": [
    {
     "name": "stdout",
     "output_type": "stream",
     "text": [
      "gender    2175\n",
      "income    2175\n",
      "dtype: int64\n"
     ]
    }
   ],
   "source": [
    "# Filter rows where age is 118\n",
    "age_118_rows = profile[profile['age'] == 118]\n",
    "\n",
    "# Check missing values in gender and income for these rows\n",
    "print(age_118_rows[['gender', 'income']].isnull().sum())"
   ]
  },
  {
   "cell_type": "code",
   "execution_count": 581,
   "metadata": {},
   "outputs": [
    {
     "name": "stdout",
     "output_type": "stream",
     "text": [
      "0\n",
      "2175\n"
     ]
    }
   ],
   "source": [
    "# Create a new dataset without rows where age is 118\n",
    "profile_cleaned = profile[profile['age'] != 118]\n",
    "\n",
    "# Verify the rows are removed in the new dataset\n",
    "print(profile_cleaned['age'].value_counts().get(118, 0))  # Should return 0\n",
    "\n",
    "# The original 'profile' dataset remains unchanged\n",
    "print(profile['age'].value_counts().get(118, 0))  # Should still show the count of 118 in the original dataset"
   ]
  },
  {
   "cell_type": "code",
   "execution_count": 582,
   "metadata": {},
   "outputs": [
    {
     "name": "stdout",
     "output_type": "stream",
     "text": [
      "gender              0\n",
      "age                 0\n",
      "id                  0\n",
      "became_member_on    0\n",
      "income              0\n",
      "dtype: int64\n",
      "gender\n",
      "M    8484\n",
      "F    6129\n",
      "O     212\n",
      "Name: count, dtype: int64\n",
      "count    14825.000000\n",
      "mean        54.393524\n",
      "std         17.383705\n",
      "min         18.000000\n",
      "25%         42.000000\n",
      "50%         55.000000\n",
      "75%         66.000000\n",
      "max        101.000000\n",
      "Name: age, dtype: float64\n"
     ]
    },
    {
     "data": {
      "image/png": "[encoded data removed]",
      "text/plain": [
       "<Figure size 640x480 with 1 Axes>"
      ]
     },
     "metadata": {},
     "output_type": "display_data"
    },
    {
     "data": {
      "image/png": "[encoded data removed]",
      "text/plain": [
       "<Figure size 640x480 with 1 Axes>"
      ]
     },
     "metadata": {},
     "output_type": "display_data"
    }
   ],
   "source": [
    "# Analyze profile\n",
    "print(profile_cleaned.isnull().sum())  # Check for missing values\n",
    "print(profile_cleaned['gender'].value_counts())  # Gender distribution\n",
    "print(profile_cleaned['age'].describe())  # Age statistics\n",
    "\n",
    "# Visualize demographics\n",
    "profile_cleaned['age'].hist(bins=20)\n",
    "plt.title('Age Distribution')\n",
    "plt.xlabel('Age')\n",
    "plt.ylabel('Frequency')\n",
    "plt.show()\n",
    "\n",
    "profile_cleaned['income'].hist(bins=20)\n",
    "plt.title('Income Distribution')\n",
    "plt.xlabel('Income')\n",
    "plt.ylabel('Frequency')\n",
    "plt.show()"
   ]
  },
  {
   "cell_type": "markdown",
   "metadata": {},
   "source": [
    "age distribution seems way more realistic without age 118"
   ]
  },
  {
   "cell_type": "code",
   "execution_count": 583,
   "metadata": {},
   "outputs": [
    {
     "data": {
      "image/png": "[encoded data removed]",
      "text/plain": [
       "<Figure size 640x480 with 1 Axes>"
      ]
     },
     "metadata": {},
     "output_type": "display_data"
    }
   ],
   "source": [
    "# Age vs. income scatter plot\n",
    "plt.scatter(profile_cleaned['age'], profile_cleaned['income'])\n",
    "plt.title('Age vs. Income')\n",
    "plt.xlabel('Age')\n",
    "plt.ylabel('Income')\n",
    "plt.show()\n",
    "\n"
   ]
  },
  {
   "cell_type": "code",
   "execution_count": 584,
   "metadata": {},
   "outputs": [
    {
     "name": "stdout",
     "output_type": "stream",
     "text": [
      "<class 'pandas.core.frame.DataFrame'>\n",
      "Index: 14825 entries, 1 to 16999\n",
      "Data columns (total 1 columns):\n",
      " #   Column  Non-Null Count  Dtype\n",
      "---  ------  --------------  -----\n",
      " 0   age     14825 non-null  int64\n",
      "dtypes: int64(1)\n",
      "memory usage: 231.6 KB\n",
      "None\n"
     ]
    }
   ],
   "source": [
    "print(profile_cleaned[['age']].info())  # Check data type and null values\n"
   ]
  },
  {
   "cell_type": "markdown",
   "metadata": {},
   "source": [
    "Understanding Gender"
   ]
  },
  {
   "cell_type": "code",
   "execution_count": null,
   "metadata": {},
   "outputs": [],
   "source": []
  },
  {
   "cell_type": "code",
   "execution_count": 585,
   "metadata": {},
   "outputs": [
    {
     "name": "stdout",
     "output_type": "stream",
     "text": [
      "gender\n",
      "M    8484\n",
      "F    6129\n",
      "O     212\n",
      "Name: count, dtype: int64\n"
     ]
    },
    {
     "data": {
      "image/png": "[encoded data removed]",
      "text/plain": [
       "<Figure size 640x480 with 1 Axes>"
      ]
     },
     "metadata": {},
     "output_type": "display_data"
    }
   ],
   "source": [
    "# Gender distribution\n",
    "print(profile_cleaned['gender'].value_counts())\n",
    "\n",
    "# Visualize gender distribution\n",
    "profile_cleaned['gender'].value_counts().plot(kind='bar', title='Gender Distribution')\n",
    "plt.xlabel('Gender')\n",
    "plt.ylabel('Count')\n",
    "plt.show()"
   ]
  },
  {
   "cell_type": "code",
   "execution_count": 586,
   "metadata": {},
   "outputs": [
    {
     "data": {
      "image/png": "[encoded data removed]",
      "text/plain": [
       "<Figure size 640x480 with 1 Axes>"
      ]
     },
     "metadata": {},
     "output_type": "display_data"
    }
   ],
   "source": [
    "# Gender distribution pie chart\n",
    "profile_cleaned['gender'].value_counts().plot(kind='pie', autopct='%1.1f%%', startangle=90, title='Gender Distribution')\n",
    "plt.ylabel('')  # Remove y-axis label for better appearance\n",
    "plt.show()"
   ]
  },
  {
   "cell_type": "code",
   "execution_count": 587,
   "metadata": {},
   "outputs": [
    {
     "name": "stdout",
     "output_type": "stream",
     "text": [
      "gender\n",
      "F    71306.412139\n",
      "M    61194.601603\n",
      "O    63287.735849\n",
      "Name: income, dtype: float64\n"
     ]
    },
    {
     "data": {
      "image/png": "[encoded data removed]",
      "text/plain": [
       "<Figure size 640x480 with 1 Axes>"
      ]
     },
     "metadata": {},
     "output_type": "display_data"
    }
   ],
   "source": [
    "# Income by gender\n",
    "income_by_gender = profile_cleaned.groupby('gender')['income'].mean()\n",
    "print(income_by_gender)\n",
    "\n",
    "# Visualize income by gender\n",
    "income_by_gender.plot(kind='bar', title='Average Income by Gender')\n",
    "plt.xlabel('Gender')\n",
    "plt.ylabel('Average Income')\n",
    "plt.show()\n"
   ]
  },
  {
   "cell_type": "code",
   "execution_count": 588,
   "metadata": {},
   "outputs": [
    {
     "name": "stdout",
     "output_type": "stream",
     "text": [
      "[np.int32(2013), np.int32(2014), np.int32(2015), np.int32(2016), np.int32(2017), np.int32(2018)]\n"
     ]
    },
    {
     "name": "stderr",
     "output_type": "stream",
     "text": [
      "C:\\Users\\cmezu\\AppData\\Local\\Temp\\ipykernel_19864\\2996059837.py:2: SettingWithCopyWarning: \n",
      "A value is trying to be set on a copy of a slice from a DataFrame.\n",
      "Try using .loc[row_indexer,col_indexer] = value instead\n",
      "\n",
      "See the caveats in the documentation: https://pandas.pydata.org/pandas-docs/stable/user_guide/indexing.html#returning-a-view-versus-a-copy\n",
      "  profile_cleaned['became_member_on'] = pd.to_datetime(profile_cleaned['became_member_on'].astype(str), format='%Y%m%d')\n"
     ]
    }
   ],
   "source": [
    "# Convert 'became_member_on' to datetime format\n",
    "profile_cleaned['became_member_on'] = pd.to_datetime(profile_cleaned['became_member_on'].astype(str), format='%Y%m%d')\n",
    "\n",
    "# Extract unique years from the 'became_member_on' column\n",
    "unique_years = profile_cleaned['became_member_on'].dt.year.unique()\n",
    "\n",
    "# Display the unique years\n",
    "print(sorted(unique_years))"
   ]
  },
  {
   "cell_type": "code",
   "execution_count": 589,
   "metadata": {},
   "outputs": [
    {
     "name": "stdout",
     "output_type": "stream",
     "text": [
      "[np.int32(2013), np.int32(2014), np.int32(2015), np.int32(2016), np.int32(2017), np.int32(2018)]\n"
     ]
    }
   ],
   "source": [
    "# Extract unique years from the 'became_member_on' column\n",
    "unique_years = profile_cleaned['became_member_on'].dt.year.unique()\n",
    "\n",
    "# Display the unique years\n",
    "print(sorted(unique_years))"
   ]
  },
  {
   "cell_type": "code",
   "execution_count": 590,
   "metadata": {},
   "outputs": [
    {
     "name": "stdout",
     "output_type": "stream",
     "text": [
      "gender  F   \n",
      "F       2013      74\n",
      "        2014     138\n",
      "        2015     663\n",
      "        2016    1509\n",
      "        2017    2443\n",
      "        2018    1302\n",
      "M       2013     197\n",
      "        2014     520\n",
      "        2015     905\n",
      "        2016    1483\n",
      "        2017    3067\n",
      "        2018    2312\n",
      "O       2013       3\n",
      "        2014       4\n",
      "        2015      29\n",
      "        2016      32\n",
      "        2017      89\n",
      "        2018      55\n",
      "Name: became_member_on, dtype: int64\n"
     ]
    },
    {
     "name": "stderr",
     "output_type": "stream",
     "text": [
      "C:\\Users\\cmezu\\AppData\\Local\\Temp\\ipykernel_19864\\4157276988.py:2: SettingWithCopyWarning: \n",
      "A value is trying to be set on a copy of a slice from a DataFrame.\n",
      "Try using .loc[row_indexer,col_indexer] = value instead\n",
      "\n",
      "See the caveats in the documentation: https://pandas.pydata.org/pandas-docs/stable/user_guide/indexing.html#returning-a-view-versus-a-copy\n",
      "  profile_cleaned['became_member_on'] = pd.to_datetime(profile_cleaned['became_member_on'])\n"
     ]
    }
   ],
   "source": [
    "# Ensure 'became_member_on' is a datetime column\n",
    "profile_cleaned['became_member_on'] = pd.to_datetime(profile_cleaned['became_member_on'])\n",
    "\n",
    "# Group by gender and count membership start years\n",
    "membership_by_gender = profile_cleaned.groupby('gender')['became_member_on'].apply(lambda x: x.dt.year.value_counts().sort_index())\n",
    "\n",
    "# Display results\n",
    "print(membership_by_gender)"
   ]
  },
  {
   "cell_type": "markdown",
   "metadata": {},
   "source": [
    "Understanding memberships"
   ]
  },
  {
   "cell_type": "code",
   "execution_count": 591,
   "metadata": {},
   "outputs": [
    {
     "name": "stderr",
     "output_type": "stream",
     "text": [
      "C:\\Users\\cmezu\\AppData\\Local\\Temp\\ipykernel_19864\\3921540327.py:2: SettingWithCopyWarning: \n",
      "A value is trying to be set on a copy of a slice from a DataFrame.\n",
      "Try using .loc[row_indexer,col_indexer] = value instead\n",
      "\n",
      "See the caveats in the documentation: https://pandas.pydata.org/pandas-docs/stable/user_guide/indexing.html#returning-a-view-versus-a-copy\n",
      "  profile_cleaned['became_member_on'] = pd.to_datetime(profile_cleaned['became_member_on'], format='%Y%m%d')\n"
     ]
    },
    {
     "data": {
      "image/png": "[encoded data removed]",
      "text/plain": [
       "<Figure size 640x480 with 1 Axes>"
      ]
     },
     "metadata": {},
     "output_type": "display_data"
    },
    {
     "name": "stderr",
     "output_type": "stream",
     "text": [
      "C:\\Users\\cmezu\\AppData\\Local\\Temp\\ipykernel_19864\\3921540327.py:12: SettingWithCopyWarning: \n",
      "A value is trying to be set on a copy of a slice from a DataFrame.\n",
      "Try using .loc[row_indexer,col_indexer] = value instead\n",
      "\n",
      "See the caveats in the documentation: https://pandas.pydata.org/pandas-docs/stable/user_guide/indexing.html#returning-a-view-versus-a-copy\n",
      "  profile_cleaned['membership_year'] = profile_cleaned['became_member_on'].dt.year\n"
     ]
    },
    {
     "data": {
      "image/png": "[encoded data removed]",
      "text/plain": [
       "<Figure size 640x480 with 1 Axes>"
      ]
     },
     "metadata": {},
     "output_type": "display_data"
    }
   ],
   "source": [
    "# Convert membership date to datetime\n",
    "profile_cleaned['became_member_on'] = pd.to_datetime(profile_cleaned['became_member_on'], format='%Y%m%d')\n",
    "\n",
    "# Plot membership start date distribution\n",
    "profile_cleaned['became_member_on'].hist(bins=20)\n",
    "plt.title('Membership Start Date Distribution')\n",
    "plt.xlabel('Date')\n",
    "plt.ylabel('Frequency')\n",
    "plt.show()\n",
    "\n",
    "# Analyze membership by year\n",
    "profile_cleaned['membership_year'] = profile_cleaned['became_member_on'].dt.year\n",
    "profile_cleaned['membership_year'].value_counts().sort_index().plot(kind='bar', title='Membership by Year')\n",
    "plt.xlabel('Year')\n",
    "plt.ylabel('Count')\n",
    "plt.show()"
   ]
  },
  {
   "cell_type": "code",
   "execution_count": 592,
   "metadata": {},
   "outputs": [
    {
     "data": {
      "text/plain": [
       "(14825, 6)"
      ]
     },
     "execution_count": 592,
     "metadata": {},
     "output_type": "execute_result"
    }
   ],
   "source": [
    "profile_cleaned.shape"
   ]
  },
  {
   "cell_type": "code",
   "execution_count": 593,
   "metadata": {},
   "outputs": [
    {
     "name": "stderr",
     "output_type": "stream",
     "text": [
      "C:\\Users\\cmezu\\AppData\\Local\\Temp\\ipykernel_19864\\833897052.py:2: SettingWithCopyWarning: \n",
      "A value is trying to be set on a copy of a slice from a DataFrame.\n",
      "Try using .loc[row_indexer,col_indexer] = value instead\n",
      "\n",
      "See the caveats in the documentation: https://pandas.pydata.org/pandas-docs/stable/user_guide/indexing.html#returning-a-view-versus-a-copy\n",
      "  profile_cleaned['membership_month'] = profile_cleaned['became_member_on'].dt.month\n"
     ]
    },
    {
     "name": "stdout",
     "output_type": "stream",
     "text": [
      "membership_month\n",
      "1     1327\n",
      "2     1042\n",
      "3     1145\n",
      "4     1145\n",
      "5     1152\n",
      "6     1105\n",
      "7     1189\n",
      "8     1395\n",
      "9     1299\n",
      "10    1386\n",
      "11    1268\n",
      "12    1372\n",
      "Name: count, dtype: int64\n"
     ]
    },
    {
     "data": {
      "image/png": "[encoded data removed]",
      "text/plain": [
       "<Figure size 640x480 with 1 Axes>"
      ]
     },
     "metadata": {},
     "output_type": "display_data"
    }
   ],
   "source": [
    "# Extract month from the membership date\n",
    "profile_cleaned['membership_month'] = profile_cleaned['became_member_on'].dt.month\n",
    "\n",
    "# Count the number of customers for each month\n",
    "customers_by_month = profile_cleaned['membership_month'].value_counts().sort_index()\n",
    "\n",
    "# Display the distribution\n",
    "print(customers_by_month)\n",
    "\n",
    "# Visualize the distribution\n",
    "customers_by_month.plot(kind='bar', title='Distribution of Customers by Month')\n",
    "plt.xlabel('Month')\n",
    "plt.ylabel('Number of Customers')\n",
    "plt.xticks(ticks=range(12), labels=['Jan', 'Feb', 'Mar', 'Apr', 'May', 'Jun', 'Jul', 'Aug', 'Sep', 'Oct', 'Nov', 'Dec'], rotation=45)\n",
    "plt.show()"
   ]
  },
  {
   "cell_type": "markdown",
   "metadata": {},
   "source": [
    "Its interesting to see it high in august, although maybe because it is hot and summer holidays. Autumn and are winter is when we see peaks. "
   ]
  },
  {
   "cell_type": "markdown",
   "metadata": {},
   "source": [
    "8. Insights to Look For\n",
    "After analyzing the data, summarize your findings:\n",
    "\n",
    "Age: What is the average age of customers? Are there any outliers?\n",
    "Gender: Is there a balance between genders? Are there significant differences in income or membership trends by gender?\n",
    "Income: What is the average income? Are there any correlations between income and other features (e.g., age)?\n",
    "Membership Trends: When did most customers join the app? Are there spikes in membership during specific years?\n",
    "Example Insights:\n",
    "Age: The majority of customers are between 30 and 50 years old, with a few outliers above 100.\n",
    "Gender: There is a slight imbalance, with more male customers than female customers.\n",
    "Income: The average income is around $65,000, with a wide range from $30,000 to $120,000.\n",
    "Membership Trends: Most customers joined the app in recent years, with a spike in membership in 2017."
   ]
  },
  {
   "cell_type": "markdown",
   "metadata": {},
   "source": [
    "we are seeing null values which will have to be investageting so that it can be cleaned and for the data to be joined effectively"
   ]
  },
  {
   "cell_type": "markdown",
   "metadata": {},
   "source": [
    "analysing transcript data"
   ]
  },
  {
   "cell_type": "code",
   "execution_count": 594,
   "metadata": {},
   "outputs": [
    {
     "data": {
      "text/html": [
       "<div>\n",
       "<style scoped>\n",
       "    .dataframe tbody tr th:only-of-type {\n",
       "        vertical-align: middle;\n",
       "    }\n",
       "\n",
       "    .dataframe tbody tr th {\n",
       "        vertical-align: top;\n",
       "    }\n",
       "\n",
       "    .dataframe thead th {\n",
       "        text-align: right;\n",
       "    }\n",
       "</style>\n",
       "<table border=\"1\" class=\"dataframe\">\n",
       "  <thead>\n",
       "    <tr style=\"text-align: right;\">\n",
       "      <th></th>\n",
       "      <th>person</th>\n",
       "      <th>event</th>\n",
       "      <th>value</th>\n",
       "      <th>time</th>\n",
       "    </tr>\n",
       "  </thead>\n",
       "  <tbody>\n",
       "    <tr>\n",
       "      <th>0</th>\n",
       "      <td>78afa995795e4d85b5d9ceeca43f5fef</td>\n",
       "      <td>offer received</td>\n",
       "      <td>{'offer id': '9b98b8c7a33c4b65b9aebfe6a799e6d9'}</td>\n",
       "      <td>0</td>\n",
       "    </tr>\n",
       "    <tr>\n",
       "      <th>1</th>\n",
       "      <td>a03223e636434f42ac4c3df47e8bac43</td>\n",
       "      <td>offer received</td>\n",
       "      <td>{'offer id': '0b1e1539f2cc45b7b9fa7c272da2e1d7'}</td>\n",
       "      <td>0</td>\n",
       "    </tr>\n",
       "    <tr>\n",
       "      <th>2</th>\n",
       "      <td>e2127556f4f64592b11af22de27a7932</td>\n",
       "      <td>offer received</td>\n",
       "      <td>{'offer id': '2906b810c7d4411798c6938adc9daaa5'}</td>\n",
       "      <td>0</td>\n",
       "    </tr>\n",
       "    <tr>\n",
       "      <th>3</th>\n",
       "      <td>8ec6ce2a7e7949b1bf142def7d0e0586</td>\n",
       "      <td>offer received</td>\n",
       "      <td>{'offer id': 'fafdcd668e3743c1bb461111dcafc2a4'}</td>\n",
       "      <td>0</td>\n",
       "    </tr>\n",
       "    <tr>\n",
       "      <th>4</th>\n",
       "      <td>68617ca6246f4fbc85e91a2a49552598</td>\n",
       "      <td>offer received</td>\n",
       "      <td>{'offer id': '4d5c57ea9a6940dd891ad53e9dbe8da0'}</td>\n",
       "      <td>0</td>\n",
       "    </tr>\n",
       "  </tbody>\n",
       "</table>\n",
       "</div>"
      ],
      "text/plain": [
       "                             person           event  \\\n",
       "0  78afa995795e4d85b5d9ceeca43f5fef  offer received   \n",
       "1  a03223e636434f42ac4c3df47e8bac43  offer received   \n",
       "2  e2127556f4f64592b11af22de27a7932  offer received   \n",
       "3  8ec6ce2a7e7949b1bf142def7d0e0586  offer received   \n",
       "4  68617ca6246f4fbc85e91a2a49552598  offer received   \n",
       "\n",
       "                                              value  time  \n",
       "0  {'offer id': '9b98b8c7a33c4b65b9aebfe6a799e6d9'}     0  \n",
       "1  {'offer id': '0b1e1539f2cc45b7b9fa7c272da2e1d7'}     0  \n",
       "2  {'offer id': '2906b810c7d4411798c6938adc9daaa5'}     0  \n",
       "3  {'offer id': 'fafdcd668e3743c1bb461111dcafc2a4'}     0  \n",
       "4  {'offer id': '4d5c57ea9a6940dd891ad53e9dbe8da0'}     0  "
      ]
     },
     "execution_count": 594,
     "metadata": {},
     "output_type": "execute_result"
    }
   ],
   "source": [
    "#print \n",
    "transcript.head()"
   ]
  },
  {
   "cell_type": "code",
   "execution_count": 595,
   "metadata": {},
   "outputs": [
    {
     "name": "stdout",
     "output_type": "stream",
     "text": [
      "<class 'pandas.core.frame.DataFrame'>\n",
      "RangeIndex: 306534 entries, 0 to 306533\n",
      "Data columns (total 4 columns):\n",
      " #   Column  Non-Null Count   Dtype \n",
      "---  ------  --------------   ----- \n",
      " 0   person  306534 non-null  object\n",
      " 1   event   306534 non-null  object\n",
      " 2   value   306534 non-null  object\n",
      " 3   time    306534 non-null  int64 \n",
      "dtypes: int64(1), object(3)\n",
      "memory usage: 9.4+ MB\n"
     ]
    }
   ],
   "source": [
    "transcript.info()"
   ]
  },
  {
   "cell_type": "code",
   "execution_count": 596,
   "metadata": {},
   "outputs": [
    {
     "data": {
      "text/plain": [
       "person    0\n",
       "event     0\n",
       "value     0\n",
       "time      0\n",
       "dtype: int64"
      ]
     },
     "execution_count": 596,
     "metadata": {},
     "output_type": "execute_result"
    }
   ],
   "source": [
    "transcript.isnull().sum()"
   ]
  },
  {
   "cell_type": "code",
   "execution_count": 597,
   "metadata": {},
   "outputs": [
    {
     "data": {
      "text/html": [
       "<div>\n",
       "<style scoped>\n",
       "    .dataframe tbody tr th:only-of-type {\n",
       "        vertical-align: middle;\n",
       "    }\n",
       "\n",
       "    .dataframe tbody tr th {\n",
       "        vertical-align: top;\n",
       "    }\n",
       "\n",
       "    .dataframe thead th {\n",
       "        text-align: right;\n",
       "    }\n",
       "</style>\n",
       "<table border=\"1\" class=\"dataframe\">\n",
       "  <thead>\n",
       "    <tr style=\"text-align: right;\">\n",
       "      <th></th>\n",
       "      <th>time</th>\n",
       "    </tr>\n",
       "  </thead>\n",
       "  <tbody>\n",
       "    <tr>\n",
       "      <th>count</th>\n",
       "      <td>306534.000000</td>\n",
       "    </tr>\n",
       "    <tr>\n",
       "      <th>mean</th>\n",
       "      <td>366.382940</td>\n",
       "    </tr>\n",
       "    <tr>\n",
       "      <th>std</th>\n",
       "      <td>200.326314</td>\n",
       "    </tr>\n",
       "    <tr>\n",
       "      <th>min</th>\n",
       "      <td>0.000000</td>\n",
       "    </tr>\n",
       "    <tr>\n",
       "      <th>25%</th>\n",
       "      <td>186.000000</td>\n",
       "    </tr>\n",
       "    <tr>\n",
       "      <th>50%</th>\n",
       "      <td>408.000000</td>\n",
       "    </tr>\n",
       "    <tr>\n",
       "      <th>75%</th>\n",
       "      <td>528.000000</td>\n",
       "    </tr>\n",
       "    <tr>\n",
       "      <th>max</th>\n",
       "      <td>714.000000</td>\n",
       "    </tr>\n",
       "  </tbody>\n",
       "</table>\n",
       "</div>"
      ],
      "text/plain": [
       "                time\n",
       "count  306534.000000\n",
       "mean      366.382940\n",
       "std       200.326314\n",
       "min         0.000000\n",
       "25%       186.000000\n",
       "50%       408.000000\n",
       "75%       528.000000\n",
       "max       714.000000"
      ]
     },
     "execution_count": 597,
     "metadata": {},
     "output_type": "execute_result"
    }
   ],
   "source": [
    "transcript.describe()"
   ]
  },
  {
   "cell_type": "code",
   "execution_count": 598,
   "metadata": {},
   "outputs": [
    {
     "data": {
      "text/plain": [
       "(306534, 4)"
      ]
     },
     "execution_count": 598,
     "metadata": {},
     "output_type": "execute_result"
    }
   ],
   "source": [
    "transcript.shape"
   ]
  },
  {
   "cell_type": "code",
   "execution_count": 599,
   "metadata": {},
   "outputs": [
    {
     "name": "stdout",
     "output_type": "stream",
     "text": [
      "event\n",
      "transaction        138953\n",
      "offer received      76277\n",
      "offer viewed        57725\n",
      "offer completed     33579\n",
      "Name: count, dtype: int64\n"
     ]
    },
    {
     "data": {
      "text/plain": [
       "<Axes: title={'center': 'Event Types Distribution'}, xlabel='event'>"
      ]
     },
     "execution_count": 599,
     "metadata": {},
     "output_type": "execute_result"
    },
    {
     "data": {
      "image/png": "[encoded data removed]",
      "text/plain": [
       "<Figure size 640x480 with 1 Axes>"
      ]
     },
     "metadata": {},
     "output_type": "display_data"
    }
   ],
   "source": [
    "# Analyze transcript\n",
    "print(transcript['event'].value_counts())  # Count event types\n",
    "\n",
    "# Convert time to datetime\n",
    "transcript['time'] = transcript['time'] * 24  # Assuming time is in hours\n",
    "transcript['time'] = pd.to_datetime(transcript['time'], unit='h', origin='2018-01-01')\n",
    "\n",
    "# Visualize event distribution\n",
    "transcript['event'].value_counts().plot(kind='bar', title='Event Types Distribution')"
   ]
  },
  {
   "cell_type": "markdown",
   "metadata": {},
   "source": []
  },
  {
   "cell_type": "code",
   "execution_count": 600,
   "metadata": {},
   "outputs": [
    {
     "name": "stdout",
     "output_type": "stream",
     "text": [
      "=== Analysis of Customers with Age 118 ===\n",
      "\n",
      "Total number of customers with age 118: 2175\n",
      "\n",
      "Event distribution:\n",
      "event\n",
      "transaction        14996\n",
      "offer received      9776\n",
      "offer viewed        7865\n",
      "offer completed     1135\n",
      "Name: count, dtype: int64\n",
      "\n",
      "Number of transactions: 14996\n",
      "\n",
      "Total amount spent: $40,509.57\n",
      "Average transaction amount: $2.70\n"
     ]
    }
   ],
   "source": [
    "# First, get all customer IDs with age 118\n",
    "age_118_customers = profile[profile['age'] == 118]['id']\n",
    "\n",
    "# Count transactions and events for these customers\n",
    "transactions_age_118 = transcript[transcript['person'].isin(age_118_customers)]\n",
    "\n",
    "# Display summary statistics\n",
    "print(\"=== Analysis of Customers with Age 118 ===\")\n",
    "print(f\"\\nTotal number of customers with age 118: {len(age_118_customers)}\")\n",
    "print(\"\\nEvent distribution:\")\n",
    "print(transactions_age_118['event'].value_counts())\n",
    "\n",
    "# For actual transactions only\n",
    "transactions_only = transactions_age_118[transactions_age_118['event'] == 'transaction']\n",
    "print(f\"\\nNumber of transactions: {len(transactions_only)}\")\n",
    "\n",
    "# Calculate total amount spent\n",
    "if not transactions_only.empty:\n",
    "\ttransaction_amounts = transactions_only['value'].apply(lambda x: x.get('amount', 0))\n",
    "\ttotal_amount_spent = sum(transaction_amounts)\n",
    "\taverage_transaction_amount = total_amount_spent / len(transactions_only)\n",
    "\tprint(f\"\\nTotal amount spent: ${total_amount_spent:,.2f}\")\n",
    "\tprint(f\"Average transaction amount: ${average_transaction_amount:,.2f}\")\n",
    "else:\n",
    "\tprint(\"\\nNo transactions found for customers with age 118.\")"
   ]
  },
  {
   "cell_type": "code",
   "execution_count": 601,
   "metadata": {},
   "outputs": [
    {
     "name": "stdout",
     "output_type": "stream",
     "text": [
      "=== Comparative Analysis ===\n",
      "\n",
      "Event Distribution:\n",
      "Age 118:\n",
      "event\n",
      "transaction        0.444036\n",
      "offer received     0.289471\n",
      "offer viewed       0.232885\n",
      "offer completed    0.033608\n",
      "Name: proportion, dtype: float64\n",
      "\n",
      "Other Ages:\n",
      "event\n",
      "transaction        0.454451\n",
      "offer received     0.243806\n",
      "offer viewed       0.182797\n",
      "offer completed    0.118946\n",
      "Name: proportion, dtype: float64\n",
      "\n",
      "=== Per Customer Metrics ===\n",
      "Transactions per customer (age 118): 6.89\n",
      "Transactions per customer (other ages): 8.36\n",
      "\n",
      "Percentage of total transactions:\n",
      "Age 118: 10.79%\n",
      "Other ages: 89.21%\n",
      "\n",
      "=== Offer Completion Analysis ===\n",
      "Offer completions per customer (age 118): 0.52\n",
      "Offer completions per customer (other ages): 2.19\n"
     ]
    }
   ],
   "source": [
    "# Compare transaction patterns between age 118 and other ages\n",
    "# Get transactions for non-118 age customers\n",
    "other_age_customers = profile[profile['age'] != 118]['id']\n",
    "transactions_other_ages = transcript[transcript['person'].isin(other_age_customers)]\n",
    "\n",
    "# Calculate key metrics for both groups\n",
    "print(\"=== Comparative Analysis ===\")\n",
    "\n",
    "# Event distribution comparison\n",
    "print(\"\\nEvent Distribution:\")\n",
    "print(\"Age 118:\")\n",
    "print(transactions_age_118['event'].value_counts(normalize=True))\n",
    "print(\"\\nOther Ages:\")\n",
    "print(transactions_other_ages['event'].value_counts(normalize=True))\n",
    "\n",
    "# Transaction analysis\n",
    "transactions_118 = transactions_age_118[transactions_age_118['event'] == 'transaction']\n",
    "transactions_other = transactions_other_ages[transactions_other_ages['event'] == 'transaction']\n",
    "\n",
    "# Calculate per customer metrics\n",
    "transactions_per_customer_118 = len(transactions_118) / len(age_118_customers)\n",
    "transactions_per_customer_other = len(transactions_other) / len(other_age_customers)\n",
    "\n",
    "print(\"\\n=== Per Customer Metrics ===\")\n",
    "print(f\"Transactions per customer (age 118): {transactions_per_customer_118:.2f}\")\n",
    "print(f\"Transactions per customer (other ages): {transactions_per_customer_other:.2f}\")\n",
    "\n",
    "# Percentage of total transactions\n",
    "total_transactions = len(transactions_118) + len(transactions_other)\n",
    "print(f\"\\nPercentage of total transactions:\")\n",
    "print(f\"Age 118: {(len(transactions_118)/total_transactions)*100:.2f}%\")\n",
    "print(f\"Other ages: {(len(transactions_other)/total_transactions)*100:.2f}%\")\n",
    "\n",
    "# Offer response analysis\n",
    "offer_completion_118 = transactions_age_118[transactions_age_118['event'] == 'offer completed'].shape[0]\n",
    "offer_completion_other = transactions_other_ages[transactions_other_ages['event'] == 'offer completed'].shape[0]\n",
    "\n",
    "print(\"\\n=== Offer Completion Analysis ===\")\n",
    "print(f\"Offer completions per customer (age 118): {offer_completion_118/len(age_118_customers):.2f}\")\n",
    "print(f\"Offer completions per customer (other ages): {offer_completion_other/len(other_age_customers):.2f}\")"
   ]
  },
  {
   "cell_type": "markdown",
   "metadata": {},
   "source": [
    "Based on the results, here's what we can conclude about age 118 customers versus other ages:\n",
    "\n",
    "Key Findings:\n",
    "Event Distribution\n",
    "\n",
    "Age 118 customers show similar patterns for transactions (44.4% vs 45.4%) and offer received (28.9% vs 24.3%)\n",
    "However, there's a significant difference in offer completion rates (3.3% vs 11.8%)\n",
    "Offer viewing rates are slightly higher for age 118 (23.2% vs 18.2%)\n",
    "Transaction Behavior\n",
    "\n",
    "Age 118 customers make fewer transactions per customer (6.89 vs 8.36)\n",
    "They represent 10.79% of total transactions, which is significant\n",
    "Offer Engagement\n",
    "\n",
    "Age 118 customers complete far fewer offers per customer (0.52 vs 2.19)\n",
    "This indicates much lower engagement with offers\n",
    "Recommendation:\n",
    "I recommend removing the age 118 customers from the analysis for the following reasons:\n",
    "\n",
    "Data Quality Issues\n",
    "\n",
    "Missing gender and income data\n",
    "Unrealistic age value\n",
    "Lower engagement metrics suggest these might be placeholder or invalid entries\n",
    "Behavioral Differences\n",
    "\n",
    "Significantly lower offer completion rates\n",
    "Lower transaction frequency per customer\n",
    "These differences suggest these might not represent real customer behavior\n",
    "Impact on Analysis\n",
    "\n",
    "Including these potentially invalid entries could skew our analysis of offer effectiveness\n",
    "The significant differences in offer completion rates could lead to incorrect conclusions about customer behavior\n",
    "To proceed with the analysis, you should use the cleaned dataset (profile_cleaned) that excludes age 118 customers to ensure more reliable insights about customer behavior and offer effectiveness."
   ]
  },
  {
   "cell_type": "markdown",
   "metadata": {},
   "source": [
    "Cleaning Datasets for merging"
   ]
  },
  {
   "cell_type": "code",
   "execution_count": 602,
   "metadata": {},
   "outputs": [
    {
     "name": "stdout",
     "output_type": "stream",
     "text": [
      "Portfolio columns after cleaning:\n",
      "['offer_reward', 'offer_channels', 'offer_difficulty', 'offer_duration', 'offer_type', 'offer_id', 'channels_str']\n",
      "   offer_reward           offer_channels  offer_difficulty  offer_duration  \\\n",
      "0            10      email,mobile,social                10               7   \n",
      "1            10  web,email,mobile,social                10               5   \n",
      "2             0         web,email,mobile                 0               4   \n",
      "3             5         web,email,mobile                 5               7   \n",
      "4             5                web,email                20              10   \n",
      "\n",
      "      offer_type                          offer_id                channels_str  \n",
      "0           bogo  ae264e3637204a6fb9bb56bc8210ddfd       email, mobile, social  \n",
      "1           bogo  4d5c57ea9a6940dd891ad53e9dbe8da0  web, email, mobile, social  \n",
      "2  informational  3f207df678b143eea3cee63160fa8bed          web, email, mobile  \n",
      "3           bogo  9b98b8c7a33c4b65b9aebfe6a799e6d9          web, email, mobile  \n",
      "4       discount  0b1e1539f2cc45b7b9fa7c272da2e1d7                  web, email  \n"
     ]
    }
   ],
   "source": [
    "def cleaning_portfolio(df):\n",
    "    \"\"\"\n",
    "    Clean the portfolio dataset by renaming columns and converting channels to string format.\n",
    "    \n",
    "    Parameters\n",
    "    ----------\n",
    "    df : DataFrame\n",
    "        The portfolio dataset to clean.\n",
    "    \n",
    "    Returns\n",
    "    -------\n",
    "    df : DataFrame\n",
    "        The cleaned portfolio dataset.\n",
    "    \"\"\"\n",
    "    # Rename columns for clarity\n",
    "    df = df.rename(columns={\n",
    "        'id': 'offer_id',\n",
    "        'duration': 'offer_duration',\n",
    "        'difficulty': 'offer_difficulty',\n",
    "        'reward': 'offer_reward',\n",
    "        'channels': 'offer_channels',\n",
    "        'offer_type': 'offer_type'\n",
    "    })\n",
    "\n",
    "    # Convert channels to string format\n",
    "    df['offer_channels'] = df['offer_channels'].apply(lambda x: ','.join(x))\n",
    "\n",
    "    return df\n",
    "\n",
    "# Apply the cleaning function to the portfolio dataset\n",
    "portfolio_cleaned = cleaning_portfolio(portfolio)\n",
    "\n",
    "# Verify the cleaned dataset\n",
    "print(\"Portfolio columns after cleaning:\")\n",
    "print(portfolio_cleaned.columns.tolist())\n",
    "print(portfolio_cleaned.head())"
   ]
  },
  {
   "cell_type": "code",
   "execution_count": 603,
   "metadata": {},
   "outputs": [
    {
     "data": {
      "text/plain": [
       "offer_reward        0\n",
       "offer_channels      0\n",
       "offer_difficulty    0\n",
       "offer_duration      0\n",
       "offer_type          0\n",
       "offer_id            0\n",
       "channels_str        0\n",
       "dtype: int64"
      ]
     },
     "execution_count": 603,
     "metadata": {},
     "output_type": "execute_result"
    }
   ],
   "source": [
    "portfolio_cleaned.isnull().sum()"
   ]
  },
  {
   "cell_type": "code",
   "execution_count": 604,
   "metadata": {},
   "outputs": [
    {
     "data": {
      "text/plain": [
       "(10, 7)"
      ]
     },
     "execution_count": 604,
     "metadata": {},
     "output_type": "execute_result"
    }
   ],
   "source": [
    "portfolio_cleaned.shape"
   ]
  },
  {
   "cell_type": "code",
   "execution_count": 605,
   "metadata": {},
   "outputs": [
    {
     "name": "stdout",
     "output_type": "stream",
     "text": [
      "\n",
      "Profile columns after cleaning:\n",
      "['gender', 'age', 'customer_id', 'membership_date', 'income', 'age_group']\n",
      "  gender  age                       customer_id membership_date    income  \\\n",
      "0   None  118  68be06ca386d4c31939f3a4f0e3dd783      2017-02-12       NaN   \n",
      "1      F   55  0610b486422d4921ae7d2bf64640c50b      2017-07-15  112000.0   \n",
      "2   None  118  38fe809add3b4fcf9315a9694bb96ff5      2018-07-12       NaN   \n",
      "3      F   75  78afa995795e4d85b5d9ceeca43f5fef      2017-05-09  100000.0   \n",
      "4   None  118  a03223e636434f42ac4c3df47e8bac43      2017-08-04       NaN   \n",
      "\n",
      "  age_group  \n",
      "0       86+  \n",
      "1     46-55  \n",
      "2       86+  \n",
      "3     66-75  \n",
      "4       86+  \n"
     ]
    }
   ],
   "source": [
    "def cleaning_profile(df):\n",
    "    \"\"\"\n",
    "    Clean the profile dataset by renaming columns, creating age groups, \n",
    "    and converting membership_date to datetime format.\n",
    "    \n",
    "    Parameters\n",
    "    ----------\n",
    "    df : DataFrame\n",
    "        The profile dataset to clean.\n",
    "    \n",
    "    Returns\n",
    "    -------\n",
    "    df : DataFrame\n",
    "        The cleaned profile dataset.\n",
    "    \"\"\"\n",
    "    # Rename columns for clarity\n",
    "    df = df.rename(columns={\n",
    "        'id': 'customer_id',\n",
    "        'became_member_on': 'membership_date'\n",
    "    })\n",
    "\n",
    "\n",
    "\n",
    "    # Create and add age groups\n",
    "    bins = [17, 25, 35, 45, 55, 65, 75, 85, 118]\n",
    "    labels = ['18-25', '26-35', '36-45', '46-55', '56-65', '66-75', '76-85', '86+']\n",
    "    df['age_group'] = pd.cut(df['age'], \n",
    "                             bins=bins, \n",
    "                             labels=labels, \n",
    "                             right=True)\n",
    "\n",
    "    # Ensure membership_date is in datetime format\n",
    "    if not pd.api.types.is_datetime64_any_dtype(df['membership_date']):\n",
    "        df['membership_date'] = pd.to_datetime(df['membership_date'].astype(str), format='%Y%m%d')\n",
    "\n",
    "    return df\n",
    "\n",
    "# Apply the cleaning function to the profile dataset\n",
    "profile_cleaned = cleaning_profile(profile)\n",
    "\n",
    "# Verify the cleaned dataset\n",
    "print(\"\\nProfile columns after cleaning:\")\n",
    "print(profile_cleaned.columns.tolist())\n",
    "print(profile_cleaned.head())"
   ]
  },
  {
   "cell_type": "code",
   "execution_count": 606,
   "metadata": {},
   "outputs": [
    {
     "data": {
      "text/plain": [
       "gender             2175\n",
       "age                   0\n",
       "customer_id           0\n",
       "membership_date       0\n",
       "income             2175\n",
       "age_group             0\n",
       "dtype: int64"
      ]
     },
     "execution_count": 606,
     "metadata": {},
     "output_type": "execute_result"
    }
   ],
   "source": [
    "profile_cleaned.isnull().sum()"
   ]
  },
  {
   "cell_type": "code",
   "execution_count": 607,
   "metadata": {},
   "outputs": [
    {
     "data": {
      "text/plain": [
       "(17000, 6)"
      ]
     },
     "execution_count": 607,
     "metadata": {},
     "output_type": "execute_result"
    }
   ],
   "source": [
    "profile_cleaned.shape"
   ]
  },
  {
   "cell_type": "code",
   "execution_count": 608,
   "metadata": {},
   "outputs": [
    {
     "data": {
      "text/plain": [
       "(17000, 5)"
      ]
     },
     "execution_count": 608,
     "metadata": {},
     "output_type": "execute_result"
    }
   ],
   "source": [
    "profile.shape"
   ]
  },
  {
   "cell_type": "code",
   "execution_count": 609,
   "metadata": {},
   "outputs": [
    {
     "data": {
      "text/plain": [
       "np.int64(0)"
      ]
     },
     "execution_count": 609,
     "metadata": {},
     "output_type": "execute_result"
    }
   ],
   "source": [
    "profile_cleaned.duplicated().sum()"
   ]
  },
  {
   "cell_type": "code",
   "execution_count": 610,
   "metadata": {},
   "outputs": [],
   "source": [
    "def cleaning_transcript(df):\n",
    "    \"\"\"\n",
    "    Rename columns in the transcript DataFrame to ensure compatibility for merging.\n",
    "\n",
    "    Parameters\n",
    "    ----------\n",
    "    df : DataFrame\n",
    "        The transcript data frame to clean.\n",
    "\n",
    "    Returns\n",
    "    -------\n",
    "    df : DataFrame\n",
    "        The cleaned transcript data frame with renamed columns.\n",
    "    \"\"\"\n",
    "    # Rename columns if necessary\n",
    "    column_renames = {\n",
    "        'value': 'offer_id',   # If value column is the key holding offer_id\n",
    "        'person': 'customer_id'  # Ensure consistency with profile_cleaned\n",
    "    }\n",
    "    \n",
    "    # Rename columns safely (only rename if they exist)\n",
    "    df = df.rename(columns={k: v for k, v in column_renames.items() if k in df.columns})\n",
    "\n",
    "    return df\n",
    "\n",
    "# Apply the function\n",
    "transcript_cleaned = cleaning_transcript(transcript)"
   ]
  },
  {
   "cell_type": "code",
   "execution_count": 611,
   "metadata": {},
   "outputs": [
    {
     "data": {
      "text/plain": [
       "customer_id    0\n",
       "event          0\n",
       "offer_id       0\n",
       "time           0\n",
       "dtype: int64"
      ]
     },
     "execution_count": 611,
     "metadata": {},
     "output_type": "execute_result"
    }
   ],
   "source": [
    "transcript_cleaned.isnull().sum()"
   ]
  },
  {
   "cell_type": "code",
   "execution_count": 612,
   "metadata": {},
   "outputs": [
    {
     "data": {
      "text/plain": [
       "(306534, 4)"
      ]
     },
     "execution_count": 612,
     "metadata": {},
     "output_type": "execute_result"
    }
   ],
   "source": [
    "transcript_cleaned.shape"
   ]
  },
  {
   "cell_type": "markdown",
   "metadata": {},
   "source": [
    "Exploratory Data Analysis (EDA)"
   ]
  },
  {
   "cell_type": "markdown",
   "metadata": {},
   "source": [
    "Merging data frames for EDA"
   ]
  },
  {
   "cell_type": "code",
   "execution_count": 613,
   "metadata": {},
   "outputs": [
    {
     "name": "stdout",
     "output_type": "stream",
     "text": [
      "Transcript columns: ['customer_id', 'event', 'offer_id', 'time']\n",
      "Portfolio columns: ['offer_reward', 'offer_channels', 'offer_difficulty', 'offer_duration', 'offer_type', 'offer_id', 'channels_str']\n"
     ]
    }
   ],
   "source": [
    "print(\"Transcript columns:\", transcript_cleaned.columns.tolist())\n",
    "print(\"Portfolio columns:\", portfolio_cleaned.columns.tolist())"
   ]
  },
  {
   "cell_type": "code",
   "execution_count": 614,
   "metadata": {},
   "outputs": [],
   "source": [
    "# Modify the merge function to use inner join instead of left join\n",
    "def merge_cleaned_data(portfolio_cleaned, profile_cleaned, transcript_cleaned):\n",
    "    \"\"\"\n",
    "    Merge the three cleaned Starbucks datasets for analysis.\n",
    "    \"\"\"\n",
    "    # First merge transcript with portfolio data\n",
    "    merged_df = transcript_cleaned.merge(\n",
    "        portfolio_cleaned,\n",
    "        on='offer_id',\n",
    "        how='left'\n",
    "    )\n",
    "    \n",
    "    # Then merge with profile data using inner join\n",
    "    merged_df = merged_df.merge(\n",
    "        profile_cleaned,\n",
    "        on='customer_id',\n",
    "        how='inner' \n",
    "    )\n",
    "    \n"
   ]
  },
  {
   "cell_type": "code",
   "execution_count": 615,
   "metadata": {},
   "outputs": [
    {
     "data": {
      "text/plain": [
       "customer_id             0\n",
       "event                   0\n",
       "time                    0\n",
       "offer_id           156401\n",
       "gender                  0\n",
       "age                     0\n",
       "membership_date         0\n",
       "income                  0\n",
       "age_group               0\n",
       "amount             148805\n",
       "dtype: int64"
      ]
     },
     "execution_count": 615,
     "metadata": {},
     "output_type": "execute_result"
    }
   ],
   "source": [
    "# Verify no null values remain\n",
    "merged_df.isnull().sum()"
   ]
  },
  {
   "cell_type": "code",
   "execution_count": 616,
   "metadata": {},
   "outputs": [
    {
     "data": {
      "text/plain": [
       "0"
      ]
     },
     "execution_count": 616,
     "metadata": {},
     "output_type": "execute_result"
    }
   ],
   "source": [
    "# Check if all the customers in profile dataframe are also in transcript dataframe\n",
    "len(set(transcript_cleaned['customer_id'].unique()) - set(profile_cleaned['customer_id'].unique()))"
   ]
  },
  {
   "cell_type": "code",
   "execution_count": 617,
   "metadata": {},
   "outputs": [
    {
     "data": {
      "text/html": [
       "<div>\n",
       "<style scoped>\n",
       "    .dataframe tbody tr th:only-of-type {\n",
       "        vertical-align: middle;\n",
       "    }\n",
       "\n",
       "    .dataframe tbody tr th {\n",
       "        vertical-align: top;\n",
       "    }\n",
       "\n",
       "    .dataframe thead th {\n",
       "        text-align: right;\n",
       "    }\n",
       "</style>\n",
       "<table border=\"1\" class=\"dataframe\">\n",
       "  <thead>\n",
       "    <tr style=\"text-align: right;\">\n",
       "      <th></th>\n",
       "      <th>customer_id</th>\n",
       "      <th>event</th>\n",
       "      <th>time</th>\n",
       "      <th>offer_id</th>\n",
       "      <th>gender</th>\n",
       "      <th>age</th>\n",
       "      <th>membership_date</th>\n",
       "      <th>income</th>\n",
       "      <th>age_group</th>\n",
       "      <th>amount</th>\n",
       "    </tr>\n",
       "  </thead>\n",
       "  <tbody>\n",
       "    <tr>\n",
       "      <th>0</th>\n",
       "      <td>78afa995795e4d85b5d9ceeca43f5fef</td>\n",
       "      <td>offer received</td>\n",
       "      <td>2018-01-01</td>\n",
       "      <td>9b98b8c7a33c4b65b9aebfe6a799e6d9</td>\n",
       "      <td>F</td>\n",
       "      <td>75</td>\n",
       "      <td>2017-05-09</td>\n",
       "      <td>100000.0</td>\n",
       "      <td>66-75</td>\n",
       "      <td>NaN</td>\n",
       "    </tr>\n",
       "    <tr>\n",
       "      <th>1</th>\n",
       "      <td>e2127556f4f64592b11af22de27a7932</td>\n",
       "      <td>offer received</td>\n",
       "      <td>2018-01-01</td>\n",
       "      <td>2906b810c7d4411798c6938adc9daaa5</td>\n",
       "      <td>M</td>\n",
       "      <td>68</td>\n",
       "      <td>2018-04-26</td>\n",
       "      <td>70000.0</td>\n",
       "      <td>66-75</td>\n",
       "      <td>NaN</td>\n",
       "    </tr>\n",
       "    <tr>\n",
       "      <th>2</th>\n",
       "      <td>389bc3fa690240e798340f5a15918d5c</td>\n",
       "      <td>offer received</td>\n",
       "      <td>2018-01-01</td>\n",
       "      <td>f19421c1d4aa40978ebb69ca19b0e20d</td>\n",
       "      <td>M</td>\n",
       "      <td>65</td>\n",
       "      <td>2018-02-09</td>\n",
       "      <td>53000.0</td>\n",
       "      <td>56-65</td>\n",
       "      <td>NaN</td>\n",
       "    </tr>\n",
       "    <tr>\n",
       "      <th>3</th>\n",
       "      <td>2eeac8d8feae4a8cad5a6af0499a211d</td>\n",
       "      <td>offer received</td>\n",
       "      <td>2018-01-01</td>\n",
       "      <td>3f207df678b143eea3cee63160fa8bed</td>\n",
       "      <td>M</td>\n",
       "      <td>58</td>\n",
       "      <td>2017-11-11</td>\n",
       "      <td>51000.0</td>\n",
       "      <td>56-65</td>\n",
       "      <td>NaN</td>\n",
       "    </tr>\n",
       "    <tr>\n",
       "      <th>4</th>\n",
       "      <td>aa4862eba776480b8bb9c68455b8c2e1</td>\n",
       "      <td>offer received</td>\n",
       "      <td>2018-01-01</td>\n",
       "      <td>0b1e1539f2cc45b7b9fa7c272da2e1d7</td>\n",
       "      <td>F</td>\n",
       "      <td>61</td>\n",
       "      <td>2017-09-11</td>\n",
       "      <td>57000.0</td>\n",
       "      <td>56-65</td>\n",
       "      <td>NaN</td>\n",
       "    </tr>\n",
       "  </tbody>\n",
       "</table>\n",
       "</div>"
      ],
      "text/plain": [
       "                        customer_id           event       time  \\\n",
       "0  78afa995795e4d85b5d9ceeca43f5fef  offer received 2018-01-01   \n",
       "1  e2127556f4f64592b11af22de27a7932  offer received 2018-01-01   \n",
       "2  389bc3fa690240e798340f5a15918d5c  offer received 2018-01-01   \n",
       "3  2eeac8d8feae4a8cad5a6af0499a211d  offer received 2018-01-01   \n",
       "4  aa4862eba776480b8bb9c68455b8c2e1  offer received 2018-01-01   \n",
       "\n",
       "                           offer_id gender  age membership_date    income  \\\n",
       "0  9b98b8c7a33c4b65b9aebfe6a799e6d9      F   75      2017-05-09  100000.0   \n",
       "1  2906b810c7d4411798c6938adc9daaa5      M   68      2018-04-26   70000.0   \n",
       "2  f19421c1d4aa40978ebb69ca19b0e20d      M   65      2018-02-09   53000.0   \n",
       "3  3f207df678b143eea3cee63160fa8bed      M   58      2017-11-11   51000.0   \n",
       "4  0b1e1539f2cc45b7b9fa7c272da2e1d7      F   61      2017-09-11   57000.0   \n",
       "\n",
       "  age_group  amount  \n",
       "0     66-75     NaN  \n",
       "1     66-75     NaN  \n",
       "2     56-65     NaN  \n",
       "3     56-65     NaN  \n",
       "4     56-65     NaN  "
      ]
     },
     "execution_count": 617,
     "metadata": {},
     "output_type": "execute_result"
    }
   ],
   "source": [
    "merged_df.head()"
   ]
  },
  {
   "cell_type": "code",
   "execution_count": 618,
   "metadata": {},
   "outputs": [
    {
     "data": {
      "text/html": [
       "<div>\n",
       "<style scoped>\n",
       "    .dataframe tbody tr th:only-of-type {\n",
       "        vertical-align: middle;\n",
       "    }\n",
       "\n",
       "    .dataframe tbody tr th {\n",
       "        vertical-align: top;\n",
       "    }\n",
       "\n",
       "    .dataframe thead th {\n",
       "        text-align: right;\n",
       "    }\n",
       "</style>\n",
       "<table border=\"1\" class=\"dataframe\">\n",
       "  <thead>\n",
       "    <tr style=\"text-align: right;\">\n",
       "      <th></th>\n",
       "      <th>customer_id</th>\n",
       "      <th>event</th>\n",
       "      <th>time</th>\n",
       "      <th>offer_id</th>\n",
       "      <th>gender</th>\n",
       "      <th>age</th>\n",
       "      <th>membership_date</th>\n",
       "      <th>income</th>\n",
       "      <th>age_group</th>\n",
       "      <th>amount</th>\n",
       "    </tr>\n",
       "  </thead>\n",
       "  <tbody>\n",
       "  </tbody>\n",
       "</table>\n",
       "</div>"
      ],
      "text/plain": [
       "Empty DataFrame\n",
       "Columns: [customer_id, event, time, offer_id, gender, age, membership_date, income, age_group, amount]\n",
       "Index: []"
      ]
     },
     "execution_count": 618,
     "metadata": {},
     "output_type": "execute_result"
    }
   ],
   "source": [
    "merged_df[merged_df['age'] == 118].head()"
   ]
  },
  {
   "cell_type": "code",
   "execution_count": 619,
   "metadata": {},
   "outputs": [],
   "source": [
    "merged_df = merged_df[merged_df['age'] != 118]"
   ]
  },
  {
   "cell_type": "code",
   "execution_count": 620,
   "metadata": {},
   "outputs": [
    {
     "data": {
      "text/html": [
       "<div>\n",
       "<style scoped>\n",
       "    .dataframe tbody tr th:only-of-type {\n",
       "        vertical-align: middle;\n",
       "    }\n",
       "\n",
       "    .dataframe tbody tr th {\n",
       "        vertical-align: top;\n",
       "    }\n",
       "\n",
       "    .dataframe thead th {\n",
       "        text-align: right;\n",
       "    }\n",
       "</style>\n",
       "<table border=\"1\" class=\"dataframe\">\n",
       "  <thead>\n",
       "    <tr style=\"text-align: right;\">\n",
       "      <th></th>\n",
       "      <th>customer_id</th>\n",
       "      <th>event</th>\n",
       "      <th>time</th>\n",
       "      <th>offer_id</th>\n",
       "      <th>gender</th>\n",
       "      <th>age</th>\n",
       "      <th>membership_date</th>\n",
       "      <th>income</th>\n",
       "      <th>age_group</th>\n",
       "      <th>amount</th>\n",
       "    </tr>\n",
       "  </thead>\n",
       "  <tbody>\n",
       "  </tbody>\n",
       "</table>\n",
       "</div>"
      ],
      "text/plain": [
       "Empty DataFrame\n",
       "Columns: [customer_id, event, time, offer_id, gender, age, membership_date, income, age_group, amount]\n",
       "Index: []"
      ]
     },
     "execution_count": 620,
     "metadata": {},
     "output_type": "execute_result"
    }
   ],
   "source": [
    "merged_df[merged_df['age'] == 118].head()"
   ]
  },
  {
   "cell_type": "code",
   "execution_count": 621,
   "metadata": {},
   "outputs": [
    {
     "data": {
      "text/plain": [
       "customer_id             0\n",
       "event                   0\n",
       "time                    0\n",
       "offer_id           156401\n",
       "gender                  0\n",
       "age                     0\n",
       "membership_date         0\n",
       "income                  0\n",
       "age_group               0\n",
       "amount             148805\n",
       "dtype: int64"
      ]
     },
     "execution_count": 621,
     "metadata": {},
     "output_type": "execute_result"
    }
   ],
   "source": [
    "# Verify no null values remain\n",
    "merged_df.isnull().sum()"
   ]
  }
 ],
 "metadata": {
  "kernelspec": {
   "display_name": "Python 3",
   "language": "python",
   "name": "python3"
  },
  "language_info": {
   "codemirror_mode": {
    "name": "ipython",
    "version": 3
   },
   "file_extension": ".py",
   "mimetype": "text/x-python",
   "name": "python",
   "nbconvert_exporter": "python",
   "pygments_lexer": "ipython3",
   "version": "3.12.9"
  }
 },
 "nbformat": 4,
 "nbformat_minor": 2
}
